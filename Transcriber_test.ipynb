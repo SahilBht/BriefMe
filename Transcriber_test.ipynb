{
  "nbformat": 4,
  "nbformat_minor": 0,
  "metadata": {
    "colab": {
      "provenance": [],
      "toc_visible": true
    },
    "kernelspec": {
      "name": "python3",
      "display_name": "Python 3"
    },
    "language_info": {
      "name": "python"
    },
    "accelerator": "GPU",
    "gpuClass": "standard"
  },
  "cells": [
    {
      "cell_type": "code",
      "execution_count": null,
      "metadata": {
        "colab": {
          "base_uri": "https://localhost:8080/"
        },
        "id": "ORXsxNLwX2Tp",
        "outputId": "0014a32d-ff28-4b15-a73d-dff189927113"
      },
      "outputs": [
        {
          "output_type": "stream",
          "name": "stdout",
          "text": [
            "  Preparing metadata (setup.py) ... \u001b[?25l\u001b[?25hdone\n",
            "\u001b[2K     \u001b[90m━━━━━━━━━━━━━━━━━━━━━━━━━━━━━━━━━━━━━━━━\u001b[0m \u001b[32m6.3/6.3 MB\u001b[0m \u001b[31m50.2 MB/s\u001b[0m eta \u001b[36m0:00:00\u001b[0m\n",
            "\u001b[2K     \u001b[90m━━━━━━━━━━━━━━━━━━━━━━━━━━━━━━━━━━━━━━\u001b[0m \u001b[32m190.3/190.3 KB\u001b[0m \u001b[31m28.0 MB/s\u001b[0m eta \u001b[36m0:00:00\u001b[0m\n",
            "\u001b[2K     \u001b[90m━━━━━━━━━━━━━━━━━━━━━━━━━━━━━━━━━━━━━━━━\u001b[0m \u001b[32m7.6/7.6 MB\u001b[0m \u001b[31m105.4 MB/s\u001b[0m eta \u001b[36m0:00:00\u001b[0m\n",
            "\u001b[?25h  Building wheel for openai-whisper (setup.py) ... \u001b[?25l\u001b[?25hdone\n",
            "Looking in indexes: https://pypi.org/simple, https://us-python.pkg.dev/colab-wheels/public/simple/\n",
            "Collecting pydub\n",
            "  Downloading pydub-0.25.1-py2.py3-none-any.whl (32 kB)\n",
            "Installing collected packages: pydub\n",
            "Successfully installed pydub-0.25.1\n"
          ]
        }
      ],
      "source": [
        "! pip install git+https://github.com/openai/whisper.git -q\n",
        "! pip install pydub"
      ]
    },
    {
      "cell_type": "code",
      "source": [
        "! pip install nltk"
      ],
      "metadata": {
        "colab": {
          "base_uri": "https://localhost:8080/"
        },
        "id": "wN7VaKS2U7_9",
        "outputId": "4574b0f4-6dcd-4e5a-b6f4-5fe7326ac9d5"
      },
      "execution_count": null,
      "outputs": [
        {
          "output_type": "stream",
          "name": "stdout",
          "text": [
            "Looking in indexes: https://pypi.org/simple, https://us-python.pkg.dev/colab-wheels/public/simple/\n",
            "Requirement already satisfied: nltk in /usr/local/lib/python3.8/dist-packages (3.7)\n",
            "Requirement already satisfied: click in /usr/local/lib/python3.8/dist-packages (from nltk) (7.1.2)\n",
            "Requirement already satisfied: joblib in /usr/local/lib/python3.8/dist-packages (from nltk) (1.2.0)\n",
            "Requirement already satisfied: regex>=2021.8.3 in /usr/local/lib/python3.8/dist-packages (from nltk) (2022.6.2)\n",
            "Requirement already satisfied: tqdm in /usr/local/lib/python3.8/dist-packages (from nltk) (4.64.1)\n"
          ]
        }
      ]
    },
    {
      "cell_type": "code",
      "source": [
        "import whisper\n",
        "import os\n",
        "import pydub\n",
        "import nltk\n",
        "import shutil\n",
        "nltk.download('stopwords')\n",
        "nltk.download('punkt')\n",
        "from nltk.corpus import stopwords\n",
        "from nltk.stem import PorterStemmer\n",
        "from nltk.tokenize import word_tokenize, sent_tokenize"
      ],
      "metadata": {
        "id": "3s3sEuEcYJqC",
        "colab": {
          "base_uri": "https://localhost:8080/"
        },
        "outputId": "24ead2db-5aa8-49fa-878b-b2bfdacabec6"
      },
      "execution_count": null,
      "outputs": [
        {
          "output_type": "stream",
          "name": "stderr",
          "text": [
            "[nltk_data] Downloading package stopwords to /root/nltk_data...\n",
            "[nltk_data]   Unzipping corpora/stopwords.zip.\n",
            "[nltk_data] Downloading package punkt to /root/nltk_data...\n",
            "[nltk_data]   Unzipping tokenizers/punkt.zip.\n"
          ]
        }
      ]
    },
    {
      "cell_type": "code",
      "source": [
        "shutil.rmtree('/content/openai-whisper-webapp/audio-chunks', ignore_errors=True)"
      ],
      "metadata": {
        "id": "Rn45F60_giKT"
      },
      "execution_count": null,
      "outputs": []
    },
    {
      "cell_type": "code",
      "source": [
        "model = whisper.load_model(\"medium\")"
      ],
      "metadata": {
        "id": "fFKHqWpqVCPe",
        "colab": {
          "base_uri": "https://localhost:8080/"
        },
        "outputId": "a04de95e-3fbb-48bf-bb03-685205b69e67"
      },
      "execution_count": null,
      "outputs": [
        {
          "output_type": "stream",
          "name": "stderr",
          "text": [
            "100%|█████████████████████████████████████| 1.42G/1.42G [00:15<00:00, 96.3MiB/s]\n"
          ]
        }
      ]
    },
    {
      "cell_type": "code",
      "source": [
        "from pydub.silence import split_on_silence"
      ],
      "metadata": {
        "id": "_0ZDXQJledi3"
      },
      "execution_count": null,
      "outputs": []
    },
    {
      "cell_type": "code",
      "source": [
        "model.device"
      ],
      "metadata": {
        "colab": {
          "base_uri": "https://localhost:8080/"
        },
        "id": "Zs2oqsTBYdVb",
        "outputId": "bc39d929-d02c-438f-b46a-dd0d6aa5d14a"
      },
      "execution_count": null,
      "outputs": [
        {
          "output_type": "execute_result",
          "data": {
            "text/plain": [
              "device(type='cuda', index=0)"
            ]
          },
          "metadata": {},
          "execution_count": 9
        }
      ]
    },
    {
      "cell_type": "code",
      "source": [
        "!git clone https://github.com/petewarden/openai-whisper-webapp\n",
        "from IPython.display import Audio"
      ],
      "metadata": {
        "colab": {
          "base_uri": "https://localhost:8080/"
        },
        "id": "RMxJn7usY_I4",
        "outputId": "7a49f12d-3e87-45c6-bf56-dccbe7e61123"
      },
      "execution_count": null,
      "outputs": [
        {
          "output_type": "stream",
          "name": "stdout",
          "text": [
            "Cloning into 'openai-whisper-webapp'...\n",
            "remote: Enumerating objects: 29, done.\u001b[K\n",
            "remote: Counting objects: 100% (29/29), done.\u001b[K\n",
            "remote: Compressing objects: 100% (29/29), done.\u001b[K\n",
            "remote: Total 29 (delta 11), reused 0 (delta 0), pack-reused 0\u001b[K\n",
            "Unpacking objects: 100% (29/29), 580.75 KiB | 6.05 MiB/s, done.\n"
          ]
        }
      ]
    },
    {
      "cell_type": "code",
      "source": [
        "src=\"gopro.mp3\""
      ],
      "metadata": {
        "id": "X4-6n4vaX8m9"
      },
      "execution_count": null,
      "outputs": []
    },
    {
      "cell_type": "code",
      "source": [
        "def transcribe(audio):\n",
        "\n",
        "    audio = whisper.load_audio(audio)\n",
        "    audio = whisper.pad_or_trim(audio)\n",
        "\n",
        "    mel = whisper.log_mel_spectrogram(audio).to(model.device)\n",
        "\n",
        "    # _, probs = model.detect_language(mel)\n",
        "    # print(f\"Detected language: {max(probs, key=probs.get)}\")\n",
        "\n",
        "    options = whisper.DecodingOptions()\n",
        "    result = whisper.decode(model, mel, options)\n",
        "    return result.text"
      ],
      "metadata": {
        "id": "5Katf-tlZKvQ"
      },
      "execution_count": null,
      "outputs": []
    },
    {
      "cell_type": "code",
      "source": [
        "transcribe(src)"
      ],
      "metadata": {
        "colab": {
          "base_uri": "https://localhost:8080/",
          "height": 70
        },
        "id": "1NllRiz6oBYd",
        "outputId": "ba6245c0-e8b9-4901-8dbf-8167ec577a8a"
      },
      "execution_count": null,
      "outputs": [
        {
          "output_type": "execute_result",
          "data": {
            "text/plain": [
              "\"GoPro, they make action cameras, drones that one time, and terrible investments. Now GoPro wasn't the first company to ever make a compact and durable camera and according to many, they're not even the best at it. But what GoPro did do is help to popularize the entire industry and fuel a competition-based arms race within the durable small action camera space.\""
            ],
            "application/vnd.google.colaboratory.intrinsic+json": {
              "type": "string"
            }
          },
          "metadata": {},
          "execution_count": 142
        }
      ]
    },
    {
      "cell_type": "code",
      "source": [
        "dst=\"audio.wav\"\n",
        "sound = pydub.AudioSegment.from_mp3(src)\n",
        "sound.export(dst, format=\"wav\")"
      ],
      "metadata": {
        "colab": {
          "base_uri": "https://localhost:8080/"
        },
        "id": "fMAo72E-VshN",
        "outputId": "27bc9726-a496-4d9f-824a-d97aa988287b"
      },
      "execution_count": null,
      "outputs": [
        {
          "output_type": "execute_result",
          "data": {
            "text/plain": [
              "<_io.BufferedRandom name='audio.wav'>"
            ]
          },
          "metadata": {},
          "execution_count": 144
        }
      ]
    },
    {
      "cell_type": "code",
      "source": [
        "def large_transcription(path):\n",
        "    sound = pydub.AudioSegment.from_wav(path)\n",
        "    chunks = pydub.silence.split_on_silence(sound,\n",
        "        min_silence_len = 300,\n",
        "        silence_thresh = sound.dBFS-14,\n",
        "        keep_silence=50,\n",
        "    )\n",
        "    whole_text = \"\"\n",
        "    cf = \"openai-whisper-webapp/audio-chunks\"\n",
        "    if not os.path.isdir(cf):\n",
        "      os.mkdir(cf)\n",
        "\n",
        "    for i, audio_chunk in enumerate(chunks, start=1):\n",
        "        chunk_filename = os.path.join(cf, f\"chunk{i}.wav\")\n",
        "        audio_chunk.export(chunk_filename, format=\"wav\")\n",
        "\n",
        "    for i, audio_chunk in enumerate(chunks, start=1):\n",
        "        whole_text=whole_text+\" \"+transcribe(\"/content/openai-whisper-webapp/audio-chunks\"+f\"/chunk{i}.wav\")\n",
        "    # for i, audio_chunk in enumerate(chunks, start=1):\n",
        "    #     print(transcribe(\"/content/openai-whisper-webapp/audio-chunks\"+f\"/chunk{i}.wav\"), '\\n')    \n",
        "    return whole_text"
      ],
      "metadata": {
        "id": "zPLJ1nNBbkC4"
      },
      "execution_count": null,
      "outputs": []
    },
    {
      "cell_type": "code",
      "source": [
        "final=large_transcription(dst)\n",
        "final"
      ],
      "metadata": {
        "colab": {
          "base_uri": "https://localhost:8080/",
          "height": 712
        },
        "id": "7Z9WlbHyf2HY",
        "outputId": "f6302b38-314e-44f5-e0dd-74cf6e77db5b"
      },
      "execution_count": null,
      "outputs": [
        {
          "output_type": "execute_result",
          "data": {
            "text/plain": [
              "\" GoPro, they make action cameras, drones that one time, and terrible investments. Now GoPro wasn't the first company to ever make a compact and durable camera, and according to many, they're not even the best at it. But what GoPro did do is help to popularize the entire industry and fuel a competition-based arms race. thin. the Durable. small action camera space. And as somebody that loves technology and improvements, I can appreciate the contribution. GoPro made to the second. However... GoPro does have a known Pretty cool. flaw with their products even now on their 11th generation. And that's that they simply don't always work. I am over GoPro. I'm officially over GoPro. This company, man. I don't know what's going on. GoPro just overheated after like a minute and a half of being on. Uh oh. Hero 11. So Hero 11 just went to... after. first. The first video I tried to take on the GoPro 11 Black I got the screen of death. constantly loose footage. I just bought this camera a week ago. and touch screen just completely throw his arm in. So to set the stage here, the first modern GoPro came out over a decade ago back in 2011. And here's a visual. Timeline of the GoPro releases. To point out a few notable things The Hero 4 Session? was the first to be natively waterproof, the four black was the first to be able to shoot in 4K. The Hero 7 was the first to have the modern hyper smooth image stabilization and the Hero 9 was the first with a front facing display. But somehow... throughout all of these years. of upgrades. They've never been able to fix the reliability of their cameras. And it doesn't matter how... good the image quality is, how durable the camera is. If it doesn't... work and capture the shot. It's. worth Okay, so to elaborate a bit more on the actual issues here There's... too. The first is simple. freezing. So the camera just. freezes. Shuts off. and the recording is ultimately ruined. Way to go GoPro version one nine. 1.19.44. Oh my god, look at that! Dead in the water! And the only way to recover camera in the state is to take out the battery. and put it back in. like an uncivilized. Caveman. The funny thing is, the Hero 9, so a pretty new version, was actually the worst when it came to recent. Meaning that... Over the years, it's been getting worse. And I feel like I have to mention at this point that No other company in the action camera space has these issues. This is completely on GoPro. The problem with the Hero 9 in particular is actually Kinda funny. So over the years, they continuously add new features. But they went like. Four years without upgrading the processor. So the camera simply couldn't. function and deliver on all of its features. you you you you you you you Click. So ultimately it was too much for the CPU to handle and the camera just didn't. WORK. on the 9th generation. And the second major issue in terms of functionality is overheating. GoPro Hero 10 powered off. 60. 26 minutes. seconds. GoPro Hero 9 Black. 29th. We'll be right back. 7news at 6. We'll be right back. 7news at 6. We'll be right back. 7news at 6. We'll be right back. 7news at 6. We'll be right back. 7news at 6. We'll be right back. 7news at 6. We'll be right back. 7news at 6. We'll be right back. 7news at 6. We'll be right back. 7news at 6. We'll be right back. 7news at 6. We'll be right back. 7news at 6. We'll be right back. 7news at 6. We'll be right back. 7news at 6. We'll be right back. 7new Uh oh. Hero 11. So Hero 11 just went to... I'll see you next time. Bye. first. and Hero 10 is still going. So this one's pretty simple in theory. When cameras are being used, especially in high bitrate and high resolution scenarios. they get warm. And action cameras are small in size, making the heat dissipation. more challenging. but the rate in which the GoPro in particular fails because of overheating. is significantly above the category average. It's called Hero 6 and it is awesome! Meaning that if GoPro actually wanted to invest time and resources into solving this problem. over the 11 generations. They totally could've. like DJI just did. Their new Action 3 camera doesn't overheat. and it's very similar in composition and capabilities. to... the GoPro. And this brings me to my final criticism of GoPro and that's that... The... They don't innovate like they used to. And just to illustrate this. Here's an image of the GoPro Hero 4. release many years ago. And here's the brand new 11. Not much is different. Now you might be thinking, so what? It's an action camera, it doesn't change that much. But when you look at the context of the rest of the industry, the competition, They have been innovating. Insta360 comes to mind here, they have a ton of diverse products in their lineup. Some are even. modular in design and they also develop new software features like horizon leveling in videos that since then every other company has copied, including... GoPro, but it's not just them. DJI is also pushing the envelope of innovation with the action 2 they introduced a brand new magnetic mounting system with a modular camera. That was super innovative. and everybody, including myself, love that new magnetic mounting system. Action 2 doesn't just challenge design standards, it shatters them. And when you compare all of that to what GoPro is doing, With the Hero 11 they released a new model called the mini. and essentially it's a little bit smaller. and they trade the display for having a second mount. it. But let us know in the comments below what you think of GoPro, I'd appreciate a like before I leave, even subscribe for more content, and I'll see you next time. you you you you you Bye! Bye! Bye! you you Bye!\""
            ],
            "application/vnd.google.colaboratory.intrinsic+json": {
              "type": "string"
            }
          },
          "metadata": {},
          "execution_count": 152
        }
      ]
    },
    {
      "cell_type": "code",
      "source": [
        "def _create_frequency_table(text_string) -> dict:\n",
        "\n",
        "    stopWords = set(stopwords.words(\"english\"))\n",
        "    words = word_tokenize(text_string)\n",
        "    ps = PorterStemmer()\n",
        "\n",
        "    freqTable = dict()\n",
        "    for word in words:\n",
        "        word = ps.stem(word)\n",
        "        if word in stopWords:\n",
        "            continue\n",
        "        if word in freqTable:\n",
        "            freqTable[word] += 1\n",
        "        else:\n",
        "            freqTable[word] = 1\n",
        "\n",
        "    return freqTable"
      ],
      "metadata": {
        "id": "uk3kiV6ZkoMT"
      },
      "execution_count": null,
      "outputs": []
    },
    {
      "cell_type": "code",
      "source": [
        "def _score_sentences(sentences, freqTable) -> dict:\n",
        "    sentenceValue = dict()\n",
        "\n",
        "    for sentence in sentences:\n",
        "        word_count_in_sentence = (len(word_tokenize(sentence)))\n",
        "        for wordValue in freqTable:\n",
        "            if wordValue in sentence.lower():\n",
        "                if sentence[:10] in sentenceValue:\n",
        "                    sentenceValue[sentence[:10]] += freqTable[wordValue]\n",
        "                else:\n",
        "                    sentenceValue[sentence[:10]] = freqTable[wordValue]\n",
        "\n",
        "        sentenceValue[sentence[:10]] = sentenceValue[sentence[:10]] // word_count_in_sentence\n",
        "\n",
        "    return sentenceValue"
      ],
      "metadata": {
        "id": "BGm5K6mMlxh6"
      },
      "execution_count": null,
      "outputs": []
    },
    {
      "cell_type": "code",
      "source": [
        "def _find_average_score(sentenceValue) -> int:\n",
        "    sumValues = 0\n",
        "    for entry in sentenceValue:\n",
        "        sumValues += sentenceValue[entry]\n",
        "        \n",
        "    average = int(sumValues / len(sentenceValue))\n",
        "\n",
        "    return average"
      ],
      "metadata": {
        "id": "lX9Y-GlslyJq"
      },
      "execution_count": null,
      "outputs": []
    },
    {
      "cell_type": "code",
      "source": [
        "def _generate_summary(sentences, sentenceValue, threshold):\n",
        "    sentence_count = 0\n",
        "    summary = ''\n",
        "\n",
        "    for sentence in sentences:\n",
        "        if sentence[:10] in sentenceValue and sentenceValue[sentence[:10]] > (threshold):\n",
        "            summary += \" \" + sentence\n",
        "            sentence_count += 1\n",
        "\n",
        "    return summary"
      ],
      "metadata": {
        "id": "XaV8u0Sgl1P6"
      },
      "execution_count": null,
      "outputs": []
    },
    {
      "cell_type": "code",
      "source": [
        "test='''\n",
        "World War II or the Second World War, often abbreviated as WWII or WW2, was a global conflict that lasted from 1939 to 1945. The vast majority of the world's countries, including all of the great powers, fought as part of two opposing military alliances: the Allies (lead by the Soviet Union, United Kingdom, United States and China) and the Axis (lead by Germany, Japan, and Italy). Many participants threw their economic, industrial, and scientific capabilities behind this total war, blurring the distinction between civilian and military resources. Aircraft played a major role, enabling the strategic bombing of population centres and the only two nuclear weapons ever used in war.\n",
        "\n",
        "World War II was by far the deadliest conflict in human history; it resulted in 70 to 85 million fatalities, mostly among civilians. Tens of millions died due to genocides (including the Holocaust), starvation, massacres, and disease. In the wake of the Axis defeat, Germany and Japan were occupied, and war crimes tribunals were conducted against German and Japanese leaders.\n",
        "\n",
        "The causes of World War II are debated, but contributing factors included the Second Italo-Ethiopian War, Spanish Civil War, Second Sino-Japanese War, Soviet–Japanese border conflicts, rise of fascism in Europe and rising European tensions since World War I. World War II is generally considered to have begun on 1 September 1939, when Nazi Germany, under Adolf Hitler, invaded Poland. The United Kingdom and France subsequently declared war on Germany on 3 September. Under the Molotov–Ribbentrop Pact of August 1939, Germany and the Soviet Union had partitioned Poland and marked out their \"spheres of influence\" across Finland, Estonia, Latvia, Lithuania and Romania. From late 1939 to early 1941, in a series of campaigns and treaties, Germany conquered or controlled much of continental Europe, and formed the Axis alliance with Italy and Japan (with other countries later). Following the onset of campaigns in North Africa and East Africa, and the fall of France in mid-1940, the war continued primarily between the European Axis powers and the British Empire, with war in the Balkans, the aerial Battle of Britain, the Blitz of the United Kingdom, and the Battle of the Atlantic. On 22 June 1941, Germany led the European Axis powers in an invasion of the Soviet Union, opening the Eastern Front, the largest land theatre of war in history.\n",
        "\n",
        "Japan, which aimed to dominate Asia and the Pacific, was at war with the Republic of China by 1937. In December 1941, Japan attacked American and British territories with near-simultaneous offensives against Southeast Asia and the Central Pacific, including an attack on the US fleet at Pearl Harbor which resulted in the United States declaring war against Japan. The European Axis powers declared war on the United States in solidarity. Japan soon captured much of the western Pacific, but its advances were halted in 1942 after losing the critical Battle of Midway; later, Germany and Italy were defeated in North Africa and at Stalingrad in the Soviet Union. Key setbacks in 1943—including a series of German defeats on the Eastern Front, the Allied invasions of Sicily and the Italian mainland, and Allied offensives in the Pacific—cost the Axis powers their initiative and forced them into strategic retreat on all fronts. In 1944, the Western Allies invaded German-occupied France, while the Soviet Union regained its territorial losses and turned towards Germany and its allies. During 1944 and 1945, Japan suffered reversals in mainland Asia, while the Allies crippled the Japanese Navy and captured key western Pacific islands.\n",
        "\n",
        "The war in Europe concluded with the liberation of German-occupied territories and the invasion of Germany by the Western Allies and the Soviet Union, culminating in the Fall of Berlin to Soviet troops, Hitler's suicide, and the German unconditional surrender on 8 May 1945. Following the refusal of Japan to surrender on the terms of the Potsdam Declaration (issued 26 July 1945), the United States dropped the first atomic bombs on the Japanese cities of Hiroshima on 6 August and Nagasaki on 9 August. Faced with an imminent invasion of the Japanese archipelago, the possibility of additional atomic bombings, and the Soviet Union's declared entry into the war against Japan on the eve of invading Manchuria, Japan announced on 10 August its intention to surrender, signing a surrender document on 2 September 1945.\n",
        "\n",
        "World War II changed the political alignment and social structure of the globe. The United Nations was established to foster international co-operation and prevent future conflicts,[1] with the victorious great powers—China, France, the Soviet Union, the United Kingdom, and the United States—becoming the permanent members of its Security Council. The Soviet Union and the United States emerged as rival superpowers, setting the stage for the nearly half-century-long Cold War. In the wake of European devastation, the influence of its great powers waned, triggering the decolonisation of Africa and Asia. Most countries whose industries had been damaged moved towards economic recovery and expansion. Political and economic integration, especially in Europe, began as an effort to forestall future hostilities, end pre-war enmities and forge a sense of common identity.\n",
        "'''\n"
      ],
      "metadata": {
        "id": "eQjp4yKBqC9q"
      },
      "execution_count": null,
      "outputs": []
    },
    {
      "cell_type": "code",
      "source": [
        "freq_table = _create_frequency_table(test)\n",
        "\n",
        "sentences = sent_tokenize(test)\n",
        "\n",
        "sentence_scores = _score_sentences(sentences, freq_table)\n",
        "\n",
        "threshold = _find_average_score(sentence_scores)\n",
        "\n",
        "summary = _generate_summary(sentences, sentence_scores,1.1* threshold)\n",
        "\n",
        "print(summary)"
      ],
      "metadata": {
        "colab": {
          "base_uri": "https://localhost:8080/"
        },
        "id": "D31QaOZGl3ma",
        "outputId": "bd5594f5-334c-438a-afe6-7d74330b1da6"
      },
      "execution_count": null,
      "outputs": [
        {
          "output_type": "stream",
          "name": "stdout",
          "text": [
            " \n",
            "World War II or the Second World War, often abbreviated as WWII or WW2, was a global conflict that lasted from 1939 to 1945. Aircraft played a major role, enabling the strategic bombing of population centres and the only two nuclear weapons ever used in war. World War II was by far the deadliest conflict in human history; it resulted in 70 to 85 million fatalities, mostly among civilians. Tens of millions died due to genocides (including the Holocaust), starvation, massacres, and disease. In the wake of the Axis defeat, Germany and Japan were occupied, and war crimes tribunals were conducted against German and Japanese leaders. World War II is generally considered to have begun on 1 September 1939, when Nazi Germany, under Adolf Hitler, invaded Poland. On 22 June 1941, Germany led the European Axis powers in an invasion of the Soviet Union, opening the Eastern Front, the largest land theatre of war in history. Japan, which aimed to dominate Asia and the Pacific, was at war with the Republic of China by 1937. The European Axis powers declared war on the United States in solidarity. In 1944, the Western Allies invaded German-occupied France, while the Soviet Union regained its territorial losses and turned towards Germany and its allies. During 1944 and 1945, Japan suffered reversals in mainland Asia, while the Allies crippled the Japanese Navy and captured key western Pacific islands. World War II changed the political alignment and social structure of the globe. The Soviet Union and the United States emerged as rival superpowers, setting the stage for the nearly half-century-long Cold War. In the wake of European devastation, the influence of its great powers waned, triggering the decolonisation of Africa and Asia.\n"
          ]
        }
      ]
    }
  ]
}